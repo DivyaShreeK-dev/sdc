{
  "nbformat": 4,
  "nbformat_minor": 0,
  "metadata": {
    "colab": {
      "provenance": [],
      "authorship_tag": "ABX9TyM0cFE4y9OtlOodYHfHGXpm",
      "include_colab_link": true
    },
    "kernelspec": {
      "name": "python3",
      "display_name": "Python 3"
    },
    "language_info": {
      "name": "python"
    }
  },
  "cells": [
    {
      "cell_type": "markdown",
      "metadata": {
        "id": "view-in-github",
        "colab_type": "text"
      },
      "source": [
        "<a href=\"https://colab.research.google.com/github/DivyaShreeK-dev/sdc/blob/main/image_classification.ipynb\" target=\"_parent\"><img src=\"https://colab.research.google.com/assets/colab-badge.svg\" alt=\"Open In Colab\"/></a>"
      ]
    },
    {
      "cell_type": "code",
      "execution_count": 1,
      "metadata": {
        "colab": {
          "base_uri": "https://localhost:8080/"
        },
        "id": "fxaDlcA3xMD1",
        "outputId": "e308e30e-c2ce-42b2-87b4-eddd0107e630"
      },
      "outputs": [
        {
          "output_type": "stream",
          "name": "stdout",
          "text": [
            "\u001b[2K   \u001b[90m━━━━━━━━━━━━━━━━━━━━━━━━━━━━━━━━━━━━━━━━\u001b[0m \u001b[32m46.9/46.9 MB\u001b[0m \u001b[31m10.6 MB/s\u001b[0m eta \u001b[36m0:00:00\u001b[0m\n",
            "\u001b[2K   \u001b[90m━━━━━━━━━━━━━━━━━━━━━━━━━━━━━━━━━━━━━━━━\u001b[0m \u001b[32m322.2/322.2 kB\u001b[0m \u001b[31m11.4 MB/s\u001b[0m eta \u001b[36m0:00:00\u001b[0m\n",
            "\u001b[2K   \u001b[90m━━━━━━━━━━━━━━━━━━━━━━━━━━━━━━━━━━━━━━━━\u001b[0m \u001b[32m95.2/95.2 kB\u001b[0m \u001b[31m5.3 MB/s\u001b[0m eta \u001b[36m0:00:00\u001b[0m\n",
            "\u001b[2K   \u001b[90m━━━━━━━━━━━━━━━━━━━━━━━━━━━━━━━━━━━━━━━━\u001b[0m \u001b[32m11.4/11.4 MB\u001b[0m \u001b[31m47.4 MB/s\u001b[0m eta \u001b[36m0:00:00\u001b[0m\n",
            "\u001b[2K   \u001b[90m━━━━━━━━━━━━━━━━━━━━━━━━━━━━━━━━━━━━━━━━\u001b[0m \u001b[32m72.0/72.0 kB\u001b[0m \u001b[31m4.0 MB/s\u001b[0m eta \u001b[36m0:00:00\u001b[0m\n",
            "\u001b[2K   \u001b[90m━━━━━━━━━━━━━━━━━━━━━━━━━━━━━━━━━━━━━━━━\u001b[0m \u001b[32m62.4/62.4 kB\u001b[0m \u001b[31m2.9 MB/s\u001b[0m eta \u001b[36m0:00:00\u001b[0m\n",
            "\u001b[?25h"
          ]
        }
      ],
      "source": [
        "!pip install gradio --quiet"
      ]
    },
    {
      "cell_type": "code",
      "source": [
        "import tensorflow as tf\n",
        "from tensorflow import keras\n",
        "import numpy as np\n",
        "import gradio as gr\n",
        "\n",
        "# Load the MobileNetV2 model (pretrained on ImageNet)\n",
        "base_model = keras.applications.MobileNetV2(weights=\"imagenet\")\n",
        "\n",
        "# Preprocessing function for MobileNetV2\n",
        "def preprocess_image(img):\n",
        "    img = img.resize((224, 224))  # Resize to match MobileNetV2 input\n",
        "    img = np.array(img) / 255.0   # Normalize\n",
        "    img = img.reshape(1, 224, 224, 3)\n",
        "    return img\n",
        "\n",
        "# Prediction function\n",
        "def predict_image(img):\n",
        "    img = preprocess_image(img)\n",
        "    prediction = base_model.predict(img)\n",
        "    decoded_prediction = keras.applications.mobilenet_v2.decode_predictions(prediction, top=3)[0]\n",
        "    return {item[1]: float(item[2]) for item in decoded_prediction}\n",
        "\n",
        "# Create Gradio interface\n",
        "interface = gr.Interface(fn=predict_image, inputs=gr.Image(type=\"pil\"), outputs=gr.Label())\n",
        "\n",
        "# Launch Gradio app\n",
        "interface.launch(share=True)  # 'share=True' creates a public link\n"
      ],
      "metadata": {
        "colab": {
          "base_uri": "https://localhost:8080/",
          "height": 646
        },
        "id": "05G4zLsexXw0",
        "outputId": "8f775c64-2014-4c30-d535-0cc793826372"
      },
      "execution_count": 2,
      "outputs": [
        {
          "output_type": "stream",
          "name": "stdout",
          "text": [
            "Downloading data from https://storage.googleapis.com/tensorflow/keras-applications/mobilenet_v2/mobilenet_v2_weights_tf_dim_ordering_tf_kernels_1.0_224.h5\n",
            "\u001b[1m14536120/14536120\u001b[0m \u001b[32m━━━━━━━━━━━━━━━━━━━━\u001b[0m\u001b[37m\u001b[0m \u001b[1m0s\u001b[0m 0us/step\n",
            "Colab notebook detected. To show errors in colab notebook, set debug=True in launch()\n",
            "* Running on public URL: https://42cb9123554679bf19.gradio.live\n",
            "\n",
            "This share link expires in 1 week. For free permanent hosting and GPU upgrades, run `gradio deploy` from the terminal in the working directory to deploy to Hugging Face Spaces (https://huggingface.co/spaces)\n"
          ]
        },
        {
          "output_type": "display_data",
          "data": {
            "text/plain": [
              "<IPython.core.display.HTML object>"
            ],
            "text/html": [
              "<div><iframe src=\"https://42cb9123554679bf19.gradio.live\" width=\"100%\" height=\"500\" allow=\"autoplay; camera; microphone; clipboard-read; clipboard-write;\" frameborder=\"0\" allowfullscreen></iframe></div>"
            ]
          },
          "metadata": {}
        },
        {
          "output_type": "execute_result",
          "data": {
            "text/plain": []
          },
          "metadata": {},
          "execution_count": 2
        }
      ]
    },
    {
      "cell_type": "code",
      "source": [
        "import tensorflow as tf\n",
        "from tensorflow import keras\n",
        "import numpy as np\n",
        "import gradio as gr\n",
        "\n",
        "# Load the MobileNetV2 model (pretrained on ImageNet)\n",
        "base_model = keras.applications.MobileNetV2(weights=\"imagenet\")\n",
        "\n",
        "# Preprocessing function for MobileNetV2\n",
        "def preprocess_image(img):\n",
        "    img = img.resize((224, 224))  # Resize to match MobileNetV2 input\n",
        "    img = np.array(img) / 255.0   # Normalize\n",
        "    img = img.reshape(1, 224, 224, 3)\n",
        "    return img\n",
        "\n",
        "# Prediction function\n",
        "def predict_image(img):\n",
        "    img = preprocess_image(img)\n",
        "    prediction = base_model.predict(img)\n",
        "    decoded_prediction = keras.applications.mobilenet_v2.decode_predictions(prediction, top=3)[0]\n",
        "    return {item[1]: float(item[2]) for item in decoded_prediction}\n",
        "\n",
        "# Create Gradio interface\n",
        "interface = gr.Interface(fn=predict_image, inputs=gr.Image(type=\"pil\"), outputs=gr.Label())\n",
        "\n",
        "# Launch Gradio app\n",
        "interface.launch(share=True)  # 'share=True' creates a public link"
      ],
      "metadata": {
        "colab": {
          "base_uri": "https://localhost:8080/",
          "height": 611
        },
        "id": "zmB-qSn1yuaV",
        "outputId": "4cac2956-01d0-40f2-c659-b3429edbc38b"
      },
      "execution_count": null,
      "outputs": [
        {
          "output_type": "stream",
          "name": "stdout",
          "text": [
            "Colab notebook detected. To show errors in colab notebook, set debug=True in launch()\n",
            "* Running on public URL: https://c6f9f7f81b89c79d7b.gradio.live\n",
            "\n",
            "This share link expires in 72 hours. For free permanent hosting and GPU upgrades, run `gradio deploy` from the terminal in the working directory to deploy to Hugging Face Spaces (https://huggingface.co/spaces)\n"
          ]
        },
        {
          "output_type": "display_data",
          "data": {
            "text/plain": [
              "<IPython.core.display.HTML object>"
            ],
            "text/html": [
              "<div><iframe src=\"https://c6f9f7f81b89c79d7b.gradio.live\" width=\"100%\" height=\"500\" allow=\"autoplay; camera; microphone; clipboard-read; clipboard-write;\" frameborder=\"0\" allowfullscreen></iframe></div>"
            ]
          },
          "metadata": {}
        },
        {
          "output_type": "execute_result",
          "data": {
            "text/plain": []
          },
          "metadata": {},
          "execution_count": 3
        }
      ]
    }
  ]
}