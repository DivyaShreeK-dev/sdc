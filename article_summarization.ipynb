{
  "nbformat": 4,
  "nbformat_minor": 0,
  "metadata": {
    "colab": {
      "provenance": [],
      "authorship_tag": "ABX9TyNwJSPbAP7aN4W5X572G/QI",
      "include_colab_link": true
    },
    "kernelspec": {
      "name": "python3",
      "display_name": "Python 3"
    },
    "language_info": {
      "name": "python"
    }
  },
  "cells": [
    {
      "cell_type": "markdown",
      "metadata": {
        "id": "view-in-github",
        "colab_type": "text"
      },
      "source": [
        "<a href=\"https://colab.research.google.com/github/DivyaShreeK-dev/sdc/blob/main/article_summarization.ipynb\" target=\"_parent\"><img src=\"https://colab.research.google.com/assets/colab-badge.svg\" alt=\"Open In Colab\"/></a>"
      ]
    },
    {
      "cell_type": "code",
      "execution_count": null,
      "metadata": {
        "id": "CRvABp_hcSGy"
      },
      "outputs": [],
      "source": [
        "\n",
        "import warnings\n",
        "from transformers import pipeline\n",
        "\n",
        "# ✅ Suppress warnings\n",
        "warnings.filterwarnings(\"ignore\")\n",
        "\n",
        "# ✅ Initialize the summarization pipeline from HuggingFace's transformers library\n",
        "summarizer = pipeline(\"summarization\", model=\"facebook/bart-large-cnn\")\n",
        "\n",
        "# ✅ Function to summarize an article\n",
        "def summarize_article(article_text: str) -> str:\n",
        "    try:\n",
        "        # Dynamically adjust max_length based on input text length\n",
        "        input_length = len(article_text.split())\n",
        "\n",
        "        # If the article is short, reduce max_length to avoid warning\n",
        "        if input_length < 100:\n",
        "            max_len = input_length // 2  # Adjust max_length for short inputs\n",
        "        else:\n",
        "            max_len = 150  # Keep max_length for longer inputs\n",
        "\n",
        "        # Summarize the input article using HuggingFace's summarization model\n",
        "        summary = summarizer(article_text, max_length=max_len, min_length=50, do_sample=False)\n",
        "        return summary[0]['summary_text']\n",
        "    except Exception as e:\n",
        "        return f\"❌ Summary failed: {str(e)}\"\n",
        "\n",
        "# ✅ Interactive loop for real-time article summarization\n",
        "print(\"📝 Article Summarization Tool is ready! Type 'exit' to quit.\\n\")\n",
        "\n",
        "while True:\n",
        "    # Get user input (article text)\n",
        "    article_input = input(\"Enter the article text (or type 'exit' to quit): \").strip()\n",
        "\n",
        "    if article_input.lower() in [\"exit\", \"quit\"]:\n",
        "        print(\"👋 Goodbye! Happy summarizing!\")\n",
        "        break\n",
        "\n",
        "    # Get the summary using the summarize_article function\n",
        "    summary = summarize_article(article_input)\n",
        "    print(f\"📄 Summary: {summary}\\n\")"
      ]
    }
  ]
}