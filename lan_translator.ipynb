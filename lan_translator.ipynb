{
  "nbformat": 4,
  "nbformat_minor": 0,
  "metadata": {
    "colab": {
      "provenance": [],
      "authorship_tag": "ABX9TyP7GyTZv3mRSPGDaJXcpyfq",
      "include_colab_link": true
    },
    "kernelspec": {
      "name": "python3",
      "display_name": "Python 3"
    },
    "language_info": {
      "name": "python"
    }
  },
  "cells": [
    {
      "cell_type": "markdown",
      "metadata": {
        "id": "view-in-github",
        "colab_type": "text"
      },
      "source": [
        "<a href=\"https://colab.research.google.com/github/DivyaShreeK-dev/sdc/blob/main/lan_translator.ipynb\" target=\"_parent\"><img src=\"https://colab.research.google.com/assets/colab-badge.svg\" alt=\"Open In Colab\"/></a>"
      ]
    },
    {
      "cell_type": "code",
      "execution_count": null,
      "metadata": {
        "colab": {
          "base_uri": "https://localhost:8080/"
        },
        "id": "LAEoyZv2BtwH",
        "outputId": "fb7619d9-b82e-4349-ec14-c9e64a8e67ca"
      },
      "outputs": [
        {
          "output_type": "stream",
          "name": "stdout",
          "text": [
            "Requirement already satisfied: googletrans==4.0.0-rc1 in /usr/local/lib/python3.11/dist-packages (4.0.0rc1)\n",
            "Requirement already satisfied: httpx==0.13.3 in /usr/local/lib/python3.11/dist-packages (from googletrans==4.0.0-rc1) (0.13.3)\n",
            "Requirement already satisfied: certifi in /usr/local/lib/python3.11/dist-packages (from httpx==0.13.3->googletrans==4.0.0-rc1) (2025.1.31)\n",
            "Requirement already satisfied: hstspreload in /usr/local/lib/python3.11/dist-packages (from httpx==0.13.3->googletrans==4.0.0-rc1) (2025.1.1)\n",
            "Requirement already satisfied: sniffio in /usr/local/lib/python3.11/dist-packages (from httpx==0.13.3->googletrans==4.0.0-rc1) (1.3.1)\n",
            "Requirement already satisfied: chardet==3.* in /usr/local/lib/python3.11/dist-packages (from httpx==0.13.3->googletrans==4.0.0-rc1) (3.0.4)\n",
            "Requirement already satisfied: idna==2.* in /usr/local/lib/python3.11/dist-packages (from httpx==0.13.3->googletrans==4.0.0-rc1) (2.10)\n",
            "Requirement already satisfied: rfc3986<2,>=1.3 in /usr/local/lib/python3.11/dist-packages (from httpx==0.13.3->googletrans==4.0.0-rc1) (1.5.0)\n",
            "Requirement already satisfied: httpcore==0.9.* in /usr/local/lib/python3.11/dist-packages (from httpx==0.13.3->googletrans==4.0.0-rc1) (0.9.1)\n",
            "Requirement already satisfied: h11<0.10,>=0.8 in /usr/local/lib/python3.11/dist-packages (from httpcore==0.9.*->httpx==0.13.3->googletrans==4.0.0-rc1) (0.9.0)\n",
            "Requirement already satisfied: h2==3.* in /usr/local/lib/python3.11/dist-packages (from httpcore==0.9.*->httpx==0.13.3->googletrans==4.0.0-rc1) (3.2.0)\n",
            "Requirement already satisfied: hyperframe<6,>=5.2.0 in /usr/local/lib/python3.11/dist-packages (from h2==3.*->httpcore==0.9.*->httpx==0.13.3->googletrans==4.0.0-rc1) (5.2.0)\n",
            "Requirement already satisfied: hpack<4,>=3.0 in /usr/local/lib/python3.11/dist-packages (from h2==3.*->httpcore==0.9.*->httpx==0.13.3->googletrans==4.0.0-rc1) (3.0.0)\n",
            "Welcome to Google Translate!\n",
            "Enter text to translate: tryphaena\n",
            "Enter source language code (e.g., 'en' for English): en\n",
            "Enter target language code (e.g., 'fr' for French): ta\n",
            "\n",
            "Original Text: tryphaena\n",
            "Translated Text: டிரிபீனா\n"
          ]
        }
      ],
      "source": [
        "# Install the googletrans library if not already installed\n",
        "!pip install googletrans==4.0.0-rc1\n",
        "\n",
        "# Import the necessary library\n",
        "from googletrans import Translator\n",
        "\n",
        "# Initialize the Translator\n",
        "translator = Translator()\n",
        "\n",
        "# Function to translate text\n",
        "def translate_text(text, src_lang='en', tgt_lang='fr'):\n",
        "    # Perform translation using the googletrans library\n",
        "    translated = translator.translate(text, src=src_lang, dest=tgt_lang)\n",
        "    return translated.text\n",
        "\n",
        "# Get user input for text, source language, and target language\n",
        "print(\"Welcome to Google Translate!\")\n",
        "text = input(\"Enter text to translate: \")\n",
        "src_lang = input(\"Enter source language code (e.g., 'en' for English): \")\n",
        "tgt_lang = input(\"Enter target language code (e.g., 'fr' for French): \")\n",
        "\n",
        "# Perform translation\n",
        "translated_text = translate_text(text, src_lang, tgt_lang)\n",
        "\n",
        "# Display translated text\n",
        "print(f\"\\nOriginal Text: {text}\")\n",
        "print(f\"Translated Text: {translated_text}\")\n"
      ]
    }
  ]
}