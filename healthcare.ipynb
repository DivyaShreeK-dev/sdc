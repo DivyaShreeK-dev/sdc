{
  "nbformat": 4,
  "nbformat_minor": 0,
  "metadata": {
    "colab": {
      "provenance": [],
      "authorship_tag": "ABX9TyOkj4NqZzLWyqb3hWgqOMbo",
      "include_colab_link": true
    },
    "kernelspec": {
      "name": "python3",
      "display_name": "Python 3"
    },
    "language_info": {
      "name": "python"
    }
  },
  "cells": [
    {
      "cell_type": "markdown",
      "metadata": {
        "id": "view-in-github",
        "colab_type": "text"
      },
      "source": [
        "<a href=\"https://colab.research.google.com/github/DivyaShreeK-dev/sdc/blob/main/healthcare.ipynb\" target=\"_parent\"><img src=\"https://colab.research.google.com/assets/colab-badge.svg\" alt=\"Open In Colab\"/></a>"
      ]
    },
    {
      "cell_type": "code",
      "execution_count": null,
      "metadata": {
        "id": "CRvABp_hcSGy"
      },
      "outputs": [],
      "source": [
        "import pandas as pd\n",
        "import numpy as np\n",
        "import ipywidgets as widgets\n",
        "from IPython.display import display\n",
        "from sklearn.model_selection import train_test_split\n",
        "from sklearn.ensemble import RandomForestClassifier\n",
        "from sklearn.metrics import classification_report\n",
        "\n",
        "# Sample Dataset (Symptoms-based)\n",
        "data = pd.DataFrame({\n",
        "    \"chest_pain\": [1, 1, 0, 1, 0, 0, 1, 0, 1, 0],\n",
        "    \"shortness_of_breath\": [1, 1, 0, 1, 0, 0, 1, 0, 0, 1],\n",
        "    \"nausea\": [0, 1, 0, 1, 0, 0, 0, 1, 0, 0],\n",
        "    \"fatigue\": [1, 1, 0, 0, 0, 1, 1, 1, 1, 0],\n",
        "    \"dizziness\": [0, 1, 0, 1, 0, 0, 0, 0, 1, 0],\n",
        "    \"target\": [1, 1, 0, 1, 0, 0, 1, 0, 1, 0]  # Target: 1 = heart disease, 0 = no disease\n",
        "})\n",
        "\n",
        "# Step 1: Split the data into features and target\n",
        "X = data.drop(\"target\", axis=1)  # Features: symptoms\n",
        "y = data[\"target\"]  # Target: disease presence (1 = heart disease, 0 = no disease)\n",
        "\n",
        "# Step 2: Split into training and testing sets\n",
        "X_train, X_test, y_train, y_test = train_test_split(X, y, test_size=0.2, random_state=42)\n",
        "\n",
        "# Step 3: Train the model (RandomForest for this example)\n",
        "model = RandomForestClassifier(random_state=42)\n",
        "model.fit(X_train, y_train)\n",
        "\n",
        "# Step 4: Model evaluation (optional)\n",
        "y_pred = model.predict(X_test)\n",
        "print(\"Model Evaluation Report:\\n\")\n",
        "print(classification_report(y_test, y_pred))\n",
        "\n",
        "# Step 5: Create widgets for symptom input\n",
        "# Widgets for symptoms: chest pain, shortness of breath, nausea, fatigue, dizziness\n",
        "chest_pain = widgets.Dropdown(options=[0, 1], value=0, description='Chest Pain:')\n",
        "shortness_of_breath = widgets.Dropdown(options=[0, 1], value=0, description='Shortness of Breath:')\n",
        "nausea = widgets.Dropdown(options=[0, 1], value=0, description='Nausea:')\n",
        "fatigue = widgets.Dropdown(options=[0, 1], value=0, description='Fatigue:')\n",
        "dizziness = widgets.Dropdown(options=[0, 1], value=0, description='Dizziness:')\n",
        "\n",
        "# Prediction function to process user input and make a prediction\n",
        "def make_prediction(b):\n",
        "    # Collecting the user input as a list\n",
        "    input_data = [\n",
        "        chest_pain.value,\n",
        "        shortness_of_breath.value,\n",
        "        nausea.value,\n",
        "        fatigue.value,\n",
        "        dizziness.value\n",
        "    ]\n",
        "\n",
        "    # Convert the input data to a DataFrame with the same feature names as the training data\n",
        "    input_df = pd.DataFrame([input_data], columns=[\"chest_pain\", \"shortness_of_breath\", \"nausea\", \"fatigue\", \"dizziness\"])\n",
        "\n",
        "    # Making the prediction using the trained model\n",
        "    prediction = model.predict(input_df)\n",
        "\n",
        "    # Showing the result\n",
        "    if prediction == 1:\n",
        "        print(\"\\nThe model predicts that the patient may have heart disease.\")\n",
        "    else:\n",
        "        print(\"\\nThe model predicts that the patient likely does not have heart disease.\")\n",
        "\n",
        "# Step 6: Create a button that will trigger the prediction\n",
        "predict_button = widgets.Button(description=\"Predict Disease\")\n",
        "predict_button.on_click(make_prediction)\n",
        "\n",
        "# Step 7: Display the widgets (symptom inputs and predict button)\n",
        "display(chest_pain, shortness_of_breath, nausea, fatigue, dizziness, predict_button)\n"
      ]
    }
  ]
}