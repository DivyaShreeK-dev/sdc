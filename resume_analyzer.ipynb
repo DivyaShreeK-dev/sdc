{
  "nbformat": 4,
  "nbformat_minor": 0,
  "metadata": {
    "colab": {
      "provenance": [],
      "authorship_tag": "ABX9TyPYRDXWOxJVlzBu2K31JcYd",
      "include_colab_link": true
    },
    "kernelspec": {
      "name": "python3",
      "display_name": "Python 3"
    },
    "language_info": {
      "name": "python"
    }
  },
  "cells": [
    {
      "cell_type": "markdown",
      "metadata": {
        "id": "view-in-github",
        "colab_type": "text"
      },
      "source": [
        "<a href=\"https://colab.research.google.com/github/DivyaShreeK-dev/sdc/blob/main/resume_analyzer.ipynb\" target=\"_parent\"><img src=\"https://colab.research.google.com/assets/colab-badge.svg\" alt=\"Open In Colab\"/></a>"
      ]
    },
    {
      "cell_type": "code",
      "execution_count": null,
      "metadata": {
        "id": "CRvABp_hcSGy"
      },
      "outputs": [],
      "source": [
        "\n",
        "# Step 1: Install required libraries\n",
        "!pip install transformers spacy nltk\n",
        "\n",
        "# Import necessary libraries\n",
        "import spacy\n",
        "import nltk\n",
        "from transformers import pipeline\n",
        "from IPython.display import display\n",
        "import ipywidgets as widgets\n",
        "\n",
        "# Download NLTK stopwords and punkt\n",
        "nltk.download('stopwords')\n",
        "nltk.download('punkt')\n",
        "\n",
        "# Step 2: Initialize NLP models\n",
        "nlp = spacy.load('en_core_web_sm')\n",
        "summarizer = pipeline(\"summarization\")\n",
        "\n",
        "# Step 3: Process the resume (text input)\n",
        "def analyze_resume(resume_text):\n",
        "    # Tokenization and Named Entity Recognition (NER) using spaCy\n",
        "    doc = nlp(resume_text)\n",
        "\n",
        "    # Extracting important entities like skills (keywords, technologies), education, and experience\n",
        "    skills = [ent.text for ent in doc.ents if ent.label_ == \"GPE\" or ent.label_ == \"ORG\" or ent.label_ == \"PRODUCT\"]\n",
        "    education = [sent.text for sent in doc.sents if \"University\" in sent.text or \"Degree\" in sent.text]\n",
        "\n",
        "    # Return extracted information\n",
        "    return skills, education\n",
        "\n",
        "# Step 4: Provide AI-based suggestions using GPT model\n",
        "def generate_suggestions(resume_text):\n",
        "    # Use GPT-based model to generate feedback\n",
        "    feedback = summarizer(resume_text, max_length=150, min_length=50, do_sample=False)\n",
        "    return feedback[0]['summary_text']\n",
        "\n",
        "# Create a widget for user input (multiline text box)\n",
        "resume_input = widgets.Textarea(\n",
        "    value='',\n",
        "    placeholder='Paste your resume text here...',\n",
        "    description='Resume Text:',\n",
        "    disabled=False,\n",
        "    layout=widgets.Layout(width='100%', height='300px')\n",
        ")\n",
        "\n",
        "# Display the widget\n",
        "display(resume_input)\n",
        "\n",
        "# Button to trigger analysis\n",
        "def on_button_click(b):\n",
        "    # Get the resume text from the input widget\n",
        "    resume_text = resume_input.value\n",
        "\n",
        "    if not resume_text:\n",
        "        print(\"Please input a resume.\")\n",
        "        return\n",
        "\n",
        "    # Analyze the resume\n",
        "    skills, education = analyze_resume(resume_text)\n",
        "\n",
        "    # Generate suggestions\n",
        "    suggestions = generate_suggestions(resume_text)\n",
        "\n",
        "    # Output the results\n",
        "    print(\"\\nExtracted Skills:\", skills)\n",
        "    print(\"\\nExtracted Education:\", education)\n",
        "    print(\"\\nSuggestions for improvement:\", suggestions)\n",
        "\n",
        "# Create a button to trigger the analysis\n",
        "analyze_button = widgets.Button(description=\"Analyze Resume\")\n",
        "analyze_button.on_click(on_button_click)\n",
        "\n",
        "# Display the button\n",
        "display(analyze_button)\n"
      ]
    }
  ]
}